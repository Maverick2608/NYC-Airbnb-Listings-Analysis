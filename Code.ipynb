{
 "cells": [
  {
   "cell_type": "markdown",
   "id": "6d6cc98f",
   "metadata": {},
   "source": [
    "# **DSGA 1001 Capstone Project**\n",
    "\n",
    "By: Dhruv, Elizabeth, Eugenia, Sarvesh\n"
   ]
  },
  {
   "cell_type": "markdown",
   "id": "bd6c77f6",
   "metadata": {},
   "source": [
    "# Introduction to Our Dataset"
   ]
  },
  {
   "cell_type": "code",
   "execution_count": 46,
   "id": "e61b8e99",
   "metadata": {},
   "outputs": [],
   "source": [
    "import pandas as pd\n",
    "import numpy as np\n",
    "from scipy import stats\n",
    "import re\n",
    "\n",
    "#import csv file as pandas df\n",
    "df = pd.read_csv('AB_NYC_2019.csv')\n",
    "#convert to standard df notation"
   ]
  },
  {
   "cell_type": "code",
   "execution_count": 47,
   "id": "77a617c6",
   "metadata": {},
   "outputs": [
    {
     "name": "stdout",
     "output_type": "stream",
     "text": [
      "     id                                              name  host_id  \\\n",
      "0  2539                Clean & quiet apt home by the park     2787   \n",
      "1  2595                             Skylit Midtown Castle     2845   \n",
      "2  3647               THE VILLAGE OF HARLEM....NEW YORK !     4632   \n",
      "3  3831                   Cozy Entire Floor of Brownstone     4869   \n",
      "4  5022  Entire Apt: Spacious Studio/Loft by central park     7192   \n",
      "\n",
      "     host_name neighbourhood_group neighbourhood  latitude  longitude  \\\n",
      "0         John            Brooklyn    Kensington  40.64749  -73.97237   \n",
      "1     Jennifer           Manhattan       Midtown  40.75362  -73.98377   \n",
      "2    Elisabeth           Manhattan        Harlem  40.80902  -73.94190   \n",
      "3  LisaRoxanne            Brooklyn  Clinton Hill  40.68514  -73.95976   \n",
      "4        Laura           Manhattan   East Harlem  40.79851  -73.94399   \n",
      "\n",
      "         room_type  price  minimum_nights  number_of_reviews last_review  \\\n",
      "0     Private room    149               1                  9  2018-10-19   \n",
      "1  Entire home/apt    225               1                 45  2019-05-21   \n",
      "2     Private room    150               3                  0         NaN   \n",
      "3  Entire home/apt     89               1                270  2019-07-05   \n",
      "4  Entire home/apt     80              10                  9  2018-11-19   \n",
      "\n",
      "   reviews_per_month  calculated_host_listings_count  availability_365  \n",
      "0               0.21                               6               365  \n",
      "1               0.38                               2               355  \n",
      "2                NaN                               1               365  \n",
      "3               4.64                               1               194  \n",
      "4               0.10                               1                 0  \n"
     ]
    },
    {
     "data": {
      "text/plain": [
       "id                                    0\n",
       "name                                 16\n",
       "host_id                               0\n",
       "host_name                            21\n",
       "neighbourhood_group                   0\n",
       "neighbourhood                         0\n",
       "latitude                              0\n",
       "longitude                             0\n",
       "room_type                             0\n",
       "price                                 0\n",
       "minimum_nights                        0\n",
       "number_of_reviews                     0\n",
       "last_review                       10052\n",
       "reviews_per_month                 10052\n",
       "calculated_host_listings_count        0\n",
       "availability_365                      0\n",
       "dtype: int64"
      ]
     },
     "execution_count": 47,
     "metadata": {},
     "output_type": "execute_result"
    }
   ],
   "source": [
    "#a check for where nulls/na are\n",
    "print(df.head())\n",
    "df.isnull().sum()\n",
    "#we see it's mostly in the reviews columns"
   ]
  },
  {
   "cell_type": "code",
   "execution_count": 48,
   "id": "41924236",
   "metadata": {},
   "outputs": [
    {
     "name": "stdout",
     "output_type": "stream",
     "text": [
      "152.75505277800508\n",
      "221\n",
      "                      price\n",
      "neighbourhood              \n",
      "Allerton          87.595238\n",
      "Arden Heights     67.250000\n",
      "Arrochar         115.000000\n",
      "Arverne          171.779221\n",
      "Astoria          117.187778\n",
      "...                     ...\n",
      "Windsor Terrace  138.993631\n",
      "Woodhaven         67.170455\n",
      "Woodlawn          60.090909\n",
      "Woodrow          700.000000\n",
      "Woodside          85.097872\n",
      "\n",
      "[221 rows x 1 columns]\n",
      "more expensive\n",
      "                         price\n",
      "neighbourhood                 \n",
      "Arverne             171.779221\n",
      "Battery Park City   367.557143\n",
      "Bayside             157.948718\n",
      "Belle Harbor        171.500000\n",
      "Boerum Hill         176.135593\n",
      "Breezy Point        213.333333\n",
      "Brooklyn Heights    209.064935\n",
      "Carroll Gardens     175.914163\n",
      "Chelsea             249.738544\n",
      "Chinatown           161.497283\n",
      "City Island         173.000000\n",
      "Civic Center        191.942308\n",
      "Clinton Hill        181.893357\n",
      "Cobble Hill         211.929293\n",
      "Columbia St         162.952381\n",
      "DUMBO               196.305556\n",
      "East Village        186.083108\n",
      "Far Rockaway        165.862069\n",
      "Financial District  225.490591\n",
      "Flatiron District   341.925000\n",
      "Fort Wadsworth      800.000000\n",
      "Gowanus             158.801619\n",
      "Gramercy            222.754438\n",
      "Greenwich Village   263.405612\n",
      "Grymes Hill         159.142857\n",
      "Hell's Kitchen      204.794178\n",
      "Jamaica Estates     182.947368\n",
      "Kips Bay            202.408511\n",
      "Lighthouse Hill     157.500000\n",
      "Little Italy        222.066116\n",
      "Lower East Side     186.312843\n",
      "Midtown             282.719094\n",
      "Mill Basin          179.750000\n",
      "Murray Hill         221.415289\n",
      "Neponsit            274.666667\n",
      "NoHo                295.717949\n",
      "Nolita              230.138340\n",
      "Park Slope          176.312253\n",
      "Prince's Bay        409.500000\n",
      "Prospect Heights    173.372549\n",
      "Randall Manor       336.000000\n",
      "Riverdale           442.090909\n",
      "Sea Gate            487.857143\n",
      "Shore Acres         152.714286\n",
      "SoHo                287.103352\n",
      "Spuyten Duyvil      154.750000\n",
      "Stuyvesant Town     169.108108\n",
      "Theater District    248.013889\n",
      "Todt Hill           169.000000\n",
      "Tribeca             490.638418\n",
      "Upper East Side     188.948276\n",
      "Upper West Side     210.918316\n",
      "Vinegar Hill        187.176471\n",
      "West Village        267.682292\n",
      "Willowbrook         249.000000\n",
      "Woodrow             700.000000\n",
      "less expensive\n",
      "                        price\n",
      "neighbourhood                \n",
      "Arden Heights       67.250000\n",
      "Baychester          75.428571\n",
      "Belmont             77.125000\n",
      "Bensonhurst         75.786667\n",
      "Borough Park        63.066176\n",
      "Bronxdale           57.105263\n",
      "Brownsville         76.459016\n",
      "Bull's Head         47.333333\n",
      "Castle Hill         63.000000\n",
      "Co-op City          77.500000\n",
      "Concord             58.192308\n",
      "Concourse Village   73.781250\n",
      "Corona              59.171875\n",
      "Dongan Hills        79.428571\n",
      "East Elmhurst       81.183784\n",
      "Elmhurst            80.459916\n",
      "Emerson Hill        68.200000\n",
      "Fieldston           75.083333\n",
      "Fordham             69.444444\n",
      "Graniteville        68.666667\n",
      "Grant City          57.666667\n",
      "Gravesend           79.014706\n",
      "Highbridge          71.111111\n",
      "Hunts Point         50.500000\n",
      "Jackson Heights     80.897849\n",
      "Kingsbridge         77.928571\n",
      "Little Neck         75.200000\n",
      "Midwood             80.339450\n",
      "Morris Heights      76.941176\n",
      "Morris Park         69.333333\n",
      "Mount Eden          58.500000\n",
      "Mount Hope          77.500000\n",
      "New Dorp            57.000000\n",
      "New Dorp Beach      57.400000\n",
      "New Springville     76.000000\n",
      "North Riverdale     79.900000\n",
      "Norwood             75.548387\n",
      "Oakwood             81.200000\n",
      "Olinville           64.000000\n",
      "Parkchester         69.076923\n",
      "Port Morris         79.891304\n",
      "Richmondtown        78.000000\n",
      "Ridgewood           77.184397\n",
      "Rosedale            76.694915\n",
      "Rossville           75.000000\n",
      "Schuylerville       69.230769\n",
      "Silver Lake         70.000000\n",
      "Soundview           53.466667\n",
      "Tompkinsville       76.190476\n",
      "Tremont             51.545455\n",
      "University Heights  69.571429\n",
      "West Brighton       80.555556\n",
      "Westerleigh         71.500000\n",
      "Woodhaven           67.170455\n",
      "Woodlawn            60.090909\n"
     ]
    }
   ],
   "source": [
    "#some high level statistics on the dataset to familiarize ourselves\n",
    "\n",
    "#let us first remove anything with a price of 0 as this doesn't make much sense\n",
    "df = df[df['price'] != 0]\n",
    "\n",
    "print(df['price'].mean())\n",
    "#mean price across all is $152.72 a night\n",
    "\n",
    "#price and neighborhood relationship\n",
    "#get all neighborhoods and look at mean price\n",
    "neighborhood_price = pd.DataFrame([df['neighbourhood'], df['price']])\n",
    "data = pd.DataFrame(data = np.transpose(neighborhood_price))\n",
    "\n",
    "#get unique neighborhoods\n",
    "unique_neighborhoods = data['neighbourhood'].unique()\n",
    "unique_neighborhoods.sort()\n",
    "print(len(unique_neighborhoods))\n",
    "#there's 221 unique neighborhoods\n",
    "\n",
    "#for each unique neighborhood we want mean price\n",
    "mean_prices = data.groupby('neighbourhood').mean()\n",
    "print(mean_prices)\n",
    "\n",
    "#neighborhoods with more & less expensive prices\n",
    "print('more expensive')\n",
    "print(mean_prices[mean_prices['price'] >= 152.71])\n",
    "print('less expensive')\n",
    "print(mean_prices[mean_prices['price'] <= 81.73])"
   ]
  },
  {
   "cell_type": "code",
   "execution_count": 49,
   "id": "df0ff0e6",
   "metadata": {},
   "outputs": [
    {
     "name": "stdout",
     "output_type": "stream",
     "text": [
      "5\n",
      "                          price\n",
      "neighbourhood_group            \n",
      "Bronx                 87.577064\n",
      "Brooklyn             124.438915\n",
      "Manhattan            196.884903\n",
      "Queens                99.517649\n",
      "Staten Island        114.812332\n",
      "            price\n",
      "count    5.000000\n",
      "mean   124.646173\n",
      "std     42.780670\n",
      "min     87.577064\n",
      "25%     99.517649\n",
      "50%    114.812332\n",
      "75%    124.438915\n",
      "max    196.884903\n"
     ]
    }
   ],
   "source": [
    "#same exploration as above but for neighborhood group\n",
    "\n",
    "#get all neighborhoods groups and look at mean price\n",
    "neighborhoodgroup_price = pd.DataFrame([df['neighbourhood_group'], df['price']])\n",
    "data1 = pd.DataFrame(data = np.transpose(neighborhoodgroup_price))\n",
    "\n",
    "#get unique neighborhoods\n",
    "unique_neighborhoodgroup = data1['neighbourhood_group'].unique()\n",
    "unique_neighborhoodgroup.sort()\n",
    "print(len(unique_neighborhoodgroup))\n",
    "#there's 5 unique neighborhood groups\n",
    "\n",
    "#for each unique neighborhood group we want mean price\n",
    "mean_group_prices = data1.groupby('neighbourhood_group').mean()\n",
    "print(mean_group_prices)\n",
    "print(mean_group_prices.describe())"
   ]
  },
  {
   "cell_type": "markdown",
   "id": "5bf46b95",
   "metadata": {},
   "source": [
    "# Variety of Hypothesis Tests"
   ]
  },
  {
   "cell_type": "code",
   "execution_count": 50,
   "id": "8a6c0471",
   "metadata": {},
   "outputs": [
    {
     "name": "stdout",
     "output_type": "stream",
     "text": [
      "7023.124698515672 0.0\n"
     ]
    }
   ],
   "source": [
    "#Neighborhood Group & Price\n",
    "\n",
    "#List of Neigbourhood Groups\n",
    "list = df['neighbourhood_group'].unique()\n",
    "\n",
    "#Create DataFrame for each Neighboorhood group\n",
    "dfbrook = df.loc[df['neighbourhood_group']==list[0]]\n",
    "dfman = df.loc[df['neighbourhood_group']==list[1]]\n",
    "dfque = df.loc[df['neighbourhood_group']==list[2]]\n",
    "dfst = df.loc[df['neighbourhood_group']==list[3]]\n",
    "dfbr = df.loc[df['neighbourhood_group']==list[4]]\n",
    "\n",
    "#Slice each dataframe on price and convert to an numpy array\n",
    "brook = np.array(dfbrook['price'])\n",
    "man = np.array(dfman['price'])\n",
    "que = np.array(dfque['price'])\n",
    "st = np.array(dfst['price'])\n",
    "br = np.array(dfbr['price'])\n",
    "\n",
    "#Remove non-finite elements element wise from each array\n",
    "brook1 = brook[np.isfinite(brook)]\n",
    "man1 = man[np.isfinite(man)]\n",
    "que1 = que[np.isfinite(que)]\n",
    "st1 = st[np.isfinite(st)]\n",
    "br1 = br[np.isfinite(br)]\n",
    "\n",
    "##Kruskal-Wallis H-test for independent samples\n",
    "h1,p1 = stats.kruskal(brook1, man1, que1, st1, br1)\n",
    "print(h1, p1)"
   ]
  },
  {
   "cell_type": "code",
   "execution_count": 51,
   "id": "cf21331a",
   "metadata": {},
   "outputs": [
    {
     "name": "stdout",
     "output_type": "stream",
     "text": [
      "311174497.0 1.303907302911765e-15\n",
      "311174497.0 6.519536514558825e-16\n",
      "311174497.0 0.9999999999999993\n",
      "12.796122094542877 9.897169061989184e-38\n"
     ]
    }
   ],
   "source": [
    "#Total Reviews & Price\n",
    "\n",
    "#Sort data frame by number of reviews in ascending order\n",
    "dfsorted = df.sort_values(by=['number_of_reviews'])\n",
    "\n",
    "#Median split of DataFrame into dataframe frame with less reviews and dataframe with more reviews\n",
    "lessreviews = dfsorted.iloc[0:24447,:]\n",
    "morereviews = dfsorted.iloc[24447:48895,:]\n",
    "\n",
    "#Slice dataframes on price and convert to numpy arrays\n",
    "lessreviewsprice = np.array(lessreviews['price'])\n",
    "morereviewsprice = np.array(morereviews['price'])\n",
    "\n",
    "#Remove non-finite elemetns from numpy arrays\n",
    "lessreviewsprice = lessreviewsprice[np.isfinite(lessreviewsprice)]\n",
    "morereviewsprice = morereviewsprice[np.isfinite(morereviewsprice)]\n",
    "\n",
    "# Two Sided Mann–Whitney U test\n",
    "u1,p1 = stats.mannwhitneyu(lessreviewsprice,morereviewsprice)\n",
    "\n",
    "# One Sided Mann–Whitney U test Greater\n",
    "u2,p2 = stats.mannwhitneyu(lessreviewsprice,morereviewsprice, alternative='greater')\n",
    "\n",
    "# One Sided Mann–Whitney U test Less\n",
    "u3,p3 = stats.mannwhitneyu(lessreviewsprice,morereviewsprice, alternative='less')\n",
    "\n",
    "#Independent Samples T-test\n",
    "t1,p4= stats.ttest_ind(lessreviewsprice,morereviewsprice, alternative='greater')\n",
    "\n",
    "print(u1, p1)\n",
    "print(u2, p2)\n",
    "print(u3, p3)\n",
    "print(t1, p4)"
   ]
  },
  {
   "cell_type": "code",
   "execution_count": 52,
   "id": "7800d245",
   "metadata": {},
   "outputs": [
    {
     "name": "stdout",
     "output_type": "stream",
     "text": [
      "192481515.0 0.0003120168430868245\n",
      "192481515.0 0.00015600842154341225\n",
      "192481515.0 0.9998439921224284\n",
      "4.088997943134403 4.341124879703943e-05\n"
     ]
    }
   ],
   "source": [
    "#Monthly Ratings & Price\n",
    "\n",
    "#Remove rows from the dataframe where are missing values for 'reviews_per_month'\n",
    "dfna = df[df['reviews_per_month'].notna()]\n",
    "\n",
    "#Sort df by reviews per month in ascending order\n",
    "dfsorted = dfna.sort_values(by=['reviews_per_month'])\n",
    "\n",
    "#Median Split into two two data frames with less reviews per month and more reviews per month\n",
    "lessrpm = dfsorted.iloc[0:19421,:]\n",
    "morerpm = dfsorted.iloc[19421:38843,:]\n",
    "\n",
    "#Slice and convert to numpy array of price of less reviews per month and numpy array of price of more reviews per month\n",
    "lessrpmprice = np.array(lessrpm['price'])\n",
    "morerpmprice = np.array(morerpm['price'])\n",
    "\n",
    "#Remove nan values from numpy arrays element wise\n",
    "lessratingsprice = lessrpmprice[np.isfinite(lessrpmprice)]\n",
    "morerpmprice = morerpmprice[np.isfinite(morerpmprice)]\n",
    "\n",
    "# Two Sided Mann–Whitney U test\n",
    "u1,p1 = stats.mannwhitneyu(lessrpmprice,morerpmprice)\n",
    "\n",
    "# One Sided Mann–Whitney U test Greater\n",
    "u2,p2 = stats.mannwhitneyu(lessrpmprice,morerpmprice, alternative='greater')\n",
    "\n",
    "# One Sided Mann–Whitney U test Less\n",
    "u3,p3 = stats.mannwhitneyu(lessrpmprice,morerpmprice, alternative='less')\n",
    "\n",
    "#Independent Samples T-test\n",
    "t1,p4 = stats.ttest_ind(lessrpmprice,morerpmprice)\n",
    "\n",
    "print(u1, p1)\n",
    "print(u2, p2)\n",
    "print(u3, p3)\n",
    "print(t1, p4)"
   ]
  },
  {
   "cell_type": "code",
   "execution_count": 53,
   "id": "e3726f90",
   "metadata": {},
   "outputs": [
    {
     "name": "stdout",
     "output_type": "stream",
     "text": [
      "81771778.0 0.06400620342446665\n",
      "81771778.0 0.03200310171223333\n",
      "81771778.0 0.9679970211227344\n",
      "2.227548158789696 0.02591938503404691\n"
     ]
    }
   ],
   "source": [
    "#Minimum Nights & Price\n",
    "\n",
    "#Create dataframe with rows of only room_type Entire home/apt\n",
    "dfentire = df.loc[df['room_type']=='Entire home/apt']\n",
    "\n",
    "#Sort DataFrame in ascending order by minimimum nights\n",
    "dfsorted = dfentire.sort_values(by=['minimum_nights'])\n",
    "\n",
    "#Median split high low into two data frames one with low minimum nights and one with high minimum nights\n",
    "lowmn = dfsorted.iloc[0:12704,:]\n",
    "highmn = dfsorted.iloc[12704:25409,:]\n",
    "\n",
    "#Slice and convert to numpy array of price of low minimum nights and numpy array of price of high minimum nights\n",
    "lowmnprice = np.array(lowmn['price'])\n",
    "highmnprice = np.array(highmn['price'])\n",
    "\n",
    "#Remove nan values from numpy arrays element wise\n",
    "lowmnprice = lowmnprice[np.isfinite(lowmnprice)]\n",
    "highmnprice = highmnprice[np.isfinite(highmnprice)]\n",
    "\n",
    "# Two Sided Mann–Whitney U test\n",
    "u1,p1 = stats.mannwhitneyu(lowmnprice,highmnprice)\n",
    "\n",
    "# One Sided Mann–Whitney U test Greater\n",
    "u2,p2 = stats.mannwhitneyu(lowmnprice,highmnprice, alternative='greater')\n",
    "\n",
    "# One Sided Mann–Whitney U test Less\n",
    "u3,p3 = stats.mannwhitneyu(lowmnprice,highmnprice, alternative='less')\n",
    "\n",
    "#Independent Samples T-test\n",
    "t1,p4 = stats.ttest_ind(lowmnprice,highmnprice)\n",
    "\n",
    "print(u1, p1)\n",
    "print(u2, p2)\n",
    "print(u3, p3)\n",
    "print(t1, p4)"
   ]
  },
  {
   "cell_type": "code",
   "execution_count": 54,
   "id": "724d573c",
   "metadata": {},
   "outputs": [
    {
     "name": "stdout",
     "output_type": "stream",
     "text": [
      "327491828.5 4.6777345881442077e-76\n",
      "327491828.5 2.3388672940721038e-76\n",
      "327491828.5 1.0\n",
      "5.80002830697294 3.3355540475105067e-09\n"
     ]
    }
   ],
   "source": [
    "#Number of Host Listings & Price\n",
    "\n",
    "#Remove rows with nan values for 'calculated_host_listings_count'\n",
    "dfna = df[df['calculated_host_listings_count'].notna()]\n",
    "\n",
    "#Sort dataframe by 'calculated_host_listings_count' in ascending order\n",
    "dfsorted = dfna.sort_values(by=['calculated_host_listings_count'])\n",
    "\n",
    "dfunique = dfsorted.drop_duplicates(subset='host_id', keep=\"first\")\n",
    "\n",
    "#Median split into two dataframes with low host listing count and high host listing count\n",
    "lowhlc = dfsorted.iloc[0:24447,:]\n",
    "highhlc = dfsorted.iloc[24447:48895,:]\n",
    "\n",
    "##Slice and convert to numpy array of price of low host listing count and numpy array of price of high host listing count\n",
    "lowhlcprice = np.array(lowhlc['price'])\n",
    "highhlcprice = np.array(highhlc['price'])\n",
    "\n",
    "#Remove nan values from numpy arrays element wise\n",
    "lowhlcprice = lowhlcprice[np.isfinite(lowhlcprice)]\n",
    "highhlcprice = highhlcprice[np.isfinite(highhlcprice)]\n",
    "\n",
    "# Two Sided Mann–Whitney U test\n",
    "u1,p1 = stats.mannwhitneyu(lowhlcprice,highhlcprice)\n",
    "\n",
    "# One Sided Mann–Whitney U test Greater\n",
    "u2,p2 = stats.mannwhitneyu(lowhlcprice,highhlcprice, alternative='greater')\n",
    "\n",
    "# One Sided Mann–Whitney U test Less\n",
    "u3,p3 = stats.mannwhitneyu(lowhlcprice,highhlcprice, alternative='less')\n",
    "\n",
    "#Independent Samples T-test\n",
    "t1,p4 = stats.ttest_ind(lowhlcprice,highhlcprice, alternative = 'greater')\n",
    "\n",
    "print(u1, p1)\n",
    "print(u2, p2)\n",
    "print(u3, p3)\n",
    "print(t1, p4)"
   ]
  },
  {
   "cell_type": "code",
   "execution_count": 55,
   "id": "046a2fbe",
   "metadata": {},
   "outputs": [
    {
     "name": "stdout",
     "output_type": "stream",
     "text": [
      "2855738.5 0.016035919202045883\n"
     ]
    }
   ],
   "source": [
    "#Keyword 'Prewar' & Price\n",
    "\n",
    "#pre-war - prices of prewar listings and non-prewar listings\n",
    "data = pd.DataFrame([df['name'], df['price']])\n",
    "data = pd.DataFrame(data = np.transpose(data))\n",
    "\n",
    "#remove nans\n",
    "data = data.dropna()\n",
    "\n",
    "#first group: find pre-war in name\n",
    "prewar_lst = ['pre-war', 'Pre-War', 'Pre War' 'pre war', 'Prewar', 'PreWar', 'Pre-war']\n",
    "\n",
    "prewar = data[data['name'].str.contains(\"prewar\")]\n",
    "for ele in prewar_lst:\n",
    "    group = data[data['name'].str.contains(ele)]\n",
    "    prewar = pd.concat([prewar, group], axis = 0, ignore_index = True)\n",
    "\n",
    "prewar_lst2 = ['prewar','pre-war', 'Pre-War', 'Pre War' 'pre war', 'Prewar', 'PreWar', 'Pre-war']\n",
    "\n",
    "for ele in prewar_lst2:\n",
    "    data.drop(data.index[data['name'].str.contains(ele)], inplace = True)\n",
    "\n",
    "prewar = prewar['price'].tolist()\n",
    "data = data['price'].tolist()\n",
    "\n",
    "M1 = np.array(prewar)\n",
    "M2 = np.array(data)\n",
    "\n",
    "#now we have data and prewar as two groups\n",
    "#null hypothesis is such that there is no difference in the prices of these two groups\n",
    "u1,p1 = stats.mannwhitneyu(M1, M2)\n",
    "print(u1,p1)"
   ]
  },
  {
   "cell_type": "code",
   "execution_count": 56,
   "id": "84a61db3",
   "metadata": {},
   "outputs": [
    {
     "name": "stdout",
     "output_type": "stream",
     "text": [
      "36041.0 0.0002246212456198628\n",
      "36041.0 0.0001123106228099314\n",
      "36041.0 0.9998879687132533\n"
     ]
    }
   ],
   "source": [
    "#Keyword 'Luxury', 'Modern' & Price\n",
    "\n",
    "#keyterms luxury vs. modern\n",
    "data = pd.DataFrame([df['name'], df['price']])\n",
    "data = pd.DataFrame(data = np.transpose(data))\n",
    "\n",
    "#remove nans\n",
    "data = data.dropna()\n",
    "\n",
    "#listings with 'luxury' in the name\n",
    "luxury_group = data[data['name'].str.contains(\"luxury\", \"Luxury\")]\n",
    "\n",
    "#listings with 'modern' in the name\n",
    "modern_group = data[data['name'].str.contains(\"modern\", \"Modern\")]\n",
    "\n",
    "luxury_group = luxury_group['price'].tolist()\n",
    "modern_group = modern_group['price'].tolist()\n",
    "\n",
    "M1 = np.array(luxury_group)\n",
    "M2 = np.array(modern_group)\n",
    "\n",
    "#now we have luxury_group and modern_group as two groups\n",
    "#null hypothesis is such that there is no difference in the prices of these two groups\n",
    "\n",
    "u1,p1 = stats.mannwhitneyu(M1, M2)\n",
    "\n",
    "#one-sided, greater\n",
    "u2,p2 = stats.mannwhitneyu(M1,M2, alternative='greater')\n",
    "\n",
    "#one-sided, less\n",
    "u3,p3 = stats.mannwhitneyu(M1,M2, alternative='less')\n",
    "\n",
    "print(u1, p1)\n",
    "print(u2, p2)\n",
    "print(u3, p3)"
   ]
  },
  {
   "cell_type": "markdown",
   "id": "4b600202",
   "metadata": {},
   "source": [
    "# Regression Analysis"
   ]
  },
  {
   "cell_type": "code",
   "execution_count": 57,
   "id": "3bede2b8",
   "metadata": {},
   "outputs": [],
   "source": [
    "from sklearn.linear_model import LinearRegression\n",
    "from sklearn.linear_model import Ridge\n",
    "from sklearn.linear_model import Lasso\n",
    "from sklearn.model_selection import train_test_split\n",
    "from sklearn.metrics import mean_squared_error\n",
    "from sklearn.metrics import r2_score"
   ]
  },
  {
   "cell_type": "code",
   "execution_count": 58,
   "id": "4ec3c7b6",
   "metadata": {},
   "outputs": [],
   "source": [
    "#data pre-processing\n",
    "#make price last column\n",
    "df['listing_price'] = df['price']\n",
    "df1 = df.drop(['price'], axis=1)\n",
    "df1.head() \n",
    "\n",
    "#data cleansing and column drops of last_review and reviews_per_month as we're missing too much data here and availability_365 as it doesn't provide useful information\n",
    "#df1.isnull().sum()\n",
    "df1 = df1.drop(['last_review', 'reviews_per_month'], axis=1)\n",
    "df1 = df1.dropna()\n",
    "\n",
    "#drop some other columns we won't use for correlations/regression\n",
    "df1 = df1.drop(['name', 'host_name'], axis=1)\n",
    "df1.shape #we are left with 10 predictor variables\n",
    "\n",
    "#we also need to numerically encode some of our data - we will do this for neighbourhood, neighbourhood_group and room_type\n",
    "df1['neighborhood'] = df1['neighbourhood'].astype('category')\n",
    "df1['neighborhood'] = df1['neighborhood'].cat.codes\n",
    "\n",
    "df1['neighborhood_group'] = df1['neighbourhood_group'].astype('category')\n",
    "df1['neighborhood_group'] = df1['neighborhood_group'].cat.codes\n",
    "\n",
    "df1['accomodation'] = df1['room_type'].astype('category')\n",
    "df1['accomodation'] = df1['accomodation'].cat.codes\n",
    "\n",
    "#finalized df\n",
    "df1 = df1[['neighbourhood_group', 'neighbourhood', 'room_type', 'id', 'host_id', 'latitude', 'longitude', \n",
    "           'minimum_nights', 'number_of_reviews', 'calculated_host_listings_count', 'neighborhood', \n",
    "          'neighborhood_group', 'accomodation', 'availability_365', 'listing_price']]"
   ]
  },
  {
   "cell_type": "code",
   "execution_count": 59,
   "id": "188a906a",
   "metadata": {},
   "outputs": [
    {
     "data": {
      "text/plain": [
       "neighbourhood_group               0\n",
       "neighbourhood                     0\n",
       "room_type                         0\n",
       "id                                0\n",
       "host_id                           0\n",
       "latitude                          0\n",
       "longitude                         0\n",
       "minimum_nights                    0\n",
       "number_of_reviews                 0\n",
       "calculated_host_listings_count    0\n",
       "neighborhood                      0\n",
       "neighborhood_group                0\n",
       "accomodation                      0\n",
       "availability_365                  0\n",
       "listing_price                     0\n",
       "dtype: int64"
      ]
     },
     "execution_count": 59,
     "metadata": {},
     "output_type": "execute_result"
    }
   ],
   "source": [
    "df1.isnull().sum()"
   ]
  },
  {
   "cell_type": "code",
   "execution_count": 60,
   "id": "6a5e085f",
   "metadata": {},
   "outputs": [
    {
     "data": {
      "text/plain": [
       "(48847, 15)"
      ]
     },
     "execution_count": 60,
     "metadata": {},
     "output_type": "execute_result"
    }
   ],
   "source": [
    "df1.shape"
   ]
  },
  {
   "cell_type": "code",
   "execution_count": 61,
   "id": "6771d2ee",
   "metadata": {},
   "outputs": [],
   "source": [
    "#outlier removal\n",
    "min_thres, max_thres = df1.listing_price.quantile([0.05,0.95])\n",
    "df1 = df1[(df1.listing_price > min_thres) & (df1.listing_price < max_thres)]"
   ]
  },
  {
   "cell_type": "code",
   "execution_count": 62,
   "id": "f0a0d827",
   "metadata": {},
   "outputs": [
    {
     "data": {
      "text/plain": [
       "(43598, 15)"
      ]
     },
     "execution_count": 62,
     "metadata": {},
     "output_type": "execute_result"
    }
   ],
   "source": [
    "df1.shape"
   ]
  },
  {
   "cell_type": "code",
   "execution_count": 63,
   "id": "1a6d3e67",
   "metadata": {},
   "outputs": [
    {
     "data": {
      "image/png": "[encoded data removed]",
      "text/plain": [
       "<Figure size 720x576 with 1 Axes>"
      ]
     },
     "metadata": {},
     "output_type": "display_data"
    }
   ],
   "source": [
    "import seaborn as sns\n",
    "sns.set(rc = {'figure.figsize':(10,8)})\n",
    "sns.boxplot(df1.listing_price);"
   ]
  },
  {
   "cell_type": "code",
   "execution_count": 64,
   "id": "f0af148a",
   "metadata": {
    "scrolled": false
   },
   "outputs": [
    {
     "data": {
      "image/png": "[encoded data removed]",
      "text/plain": [
       "<Figure size 720x576 with 1 Axes>"
      ]
     },
     "metadata": {},
     "output_type": "display_data"
    }
   ],
   "source": [
    "sns.set(rc = {'figure.figsize':(10,8)})\n",
    "sns.distplot(df1.listing_price);"
   ]
  },
  {
   "cell_type": "code",
   "execution_count": 65,
   "id": "c3e6774c",
   "metadata": {},
   "outputs": [
    {
     "name": "stdout",
     "output_type": "stream",
     "text": [
      "(43598, 12)\n",
      "[[ 1.          0.54736417  0.00363604  0.07207046 -0.06748595 -0.30793728\n",
      "   0.12527827 -0.03129746  0.06197683  0.05011617  0.15349199 -0.01705665]\n",
      " [ 0.54736417  1.          0.05414596  0.10913944 -0.1407941  -0.12350568\n",
      "   0.1363101  -0.02527267  0.13817767  0.0987824   0.16342539 -0.07029302]\n",
      " [ 0.00363604  0.05414596  1.          0.037521    0.02590089 -0.0448624\n",
      "   0.01337703  0.27858229  0.53472834  0.00956659 -0.01190414  0.11068987]\n",
      " [ 0.07207046  0.10913944  0.037521    1.         -0.12666627  0.08155372\n",
      "   0.05205522 -0.16812887 -0.04283748  0.19605311  0.08824592 -0.4040659 ]\n",
      " [-0.06748595 -0.1407941   0.02590089 -0.12666627  1.         -0.16902212\n",
      "   0.05564863  0.04951279 -0.02644668 -0.24189478  0.07276309  0.12551271]\n",
      " [-0.30793728 -0.12350568 -0.0448624   0.08155372 -0.16902212  1.\n",
      "   0.06074149 -0.05258409 -0.02022226 -0.01101098  0.2539539  -0.05068178]\n",
      " [ 0.12527827  0.1363101   0.01337703  0.05205522  0.05564863  0.06074149\n",
      "   1.         -0.03200358  0.06094632  0.1638521   0.40386497 -0.09330897]\n",
      " [-0.03129746 -0.02527267  0.27858229 -0.16812887  0.04951279 -0.05258409\n",
      "  -0.03200358  1.          0.14507267 -0.05127635 -0.04900754  0.13886137]\n",
      " [ 0.06197683  0.13817767  0.53472834 -0.04283748 -0.02644668 -0.02022226\n",
      "   0.06094632  0.14507267  1.         -0.02044011  0.07055437  0.1121271 ]\n",
      " [ 0.05011617  0.0987824   0.00956659  0.19605311 -0.24189478 -0.01101098\n",
      "   0.1638521  -0.05127635 -0.02044011  1.          0.02009155 -0.65303262]\n",
      " [ 0.15349199  0.16342539 -0.01190414  0.08824592  0.07276309  0.2539539\n",
      "   0.40386497 -0.04900754  0.07055437  0.02009155  1.          0.06197114]\n",
      " [-0.01705665 -0.07029302  0.11068987 -0.4040659   0.12551271 -0.05068178\n",
      "  -0.09330897  0.13886137  0.1121271  -0.65303262  0.06197114  1.        ]]\n"
     ]
    }
   ],
   "source": [
    "#run correlations between variables and let's find highest correlated columns\n",
    "vars_matrix = df1.iloc[:,3:] #we have 12 columns\n",
    "\n",
    "print(vars_matrix.shape)\n",
    "\n",
    "all_vars = vars_matrix.to_numpy()\n",
    "n = 12 #number of features in the data\n",
    "correlations = np.empty([n,n])\n",
    "\n",
    "#find correlations\n",
    "for i in range(n):\n",
    "    for j in range(n):\n",
    "        correlations[i][j] = stats.spearmanr(all_vars[:,i], all_vars[:,j])[0]\n",
    "\n",
    "print(correlations)"
   ]
  },
  {
   "cell_type": "code",
   "execution_count": 66,
   "id": "a74e7164",
   "metadata": {
    "scrolled": false
   },
   "outputs": [
    {
     "data": {
      "image/png": "[encoded data removed]",
      "text/plain": [
       "<Figure size 720x576 with 2 Axes>"
      ]
     },
     "metadata": {},
     "output_type": "display_data"
    }
   ],
   "source": [
    "sns.set(rc = {'figure.figsize':(10,8)})\n",
    "ax = sns.heatmap(correlations)"
   ]
  },
  {
   "cell_type": "code",
   "execution_count": 67,
   "id": "cf1fa718",
   "metadata": {
    "scrolled": true
   },
   "outputs": [
    {
     "data": {
      "text/html": [
       "<div>\n",
       "<style scoped>\n",
       "    .dataframe tbody tr th:only-of-type {\n",
       "        vertical-align: middle;\n",
       "    }\n",
       "\n",
       "    .dataframe tbody tr th {\n",
       "        vertical-align: top;\n",
       "    }\n",
       "\n",
       "    .dataframe thead th {\n",
       "        text-align: right;\n",
       "    }\n",
       "</style>\n",
       "<table border=\"1\" class=\"dataframe\">\n",
       "  <thead>\n",
       "    <tr style=\"text-align: right;\">\n",
       "      <th></th>\n",
       "      <th>minimum_nights</th>\n",
       "      <th>number_of_reviews</th>\n",
       "      <th>neighborhood</th>\n",
       "      <th>neighborhood_group</th>\n",
       "      <th>accomodation</th>\n",
       "      <th>availability_365</th>\n",
       "      <th>calculated_host_listings_count</th>\n",
       "      <th>listing_price</th>\n",
       "    </tr>\n",
       "  </thead>\n",
       "  <tbody>\n",
       "    <tr>\n",
       "      <th>0</th>\n",
       "      <td>1</td>\n",
       "      <td>9</td>\n",
       "      <td>108</td>\n",
       "      <td>1</td>\n",
       "      <td>1</td>\n",
       "      <td>365</td>\n",
       "      <td>6</td>\n",
       "      <td>149</td>\n",
       "    </tr>\n",
       "    <tr>\n",
       "      <th>1</th>\n",
       "      <td>1</td>\n",
       "      <td>45</td>\n",
       "      <td>127</td>\n",
       "      <td>2</td>\n",
       "      <td>0</td>\n",
       "      <td>355</td>\n",
       "      <td>2</td>\n",
       "      <td>225</td>\n",
       "    </tr>\n",
       "    <tr>\n",
       "      <th>2</th>\n",
       "      <td>3</td>\n",
       "      <td>0</td>\n",
       "      <td>94</td>\n",
       "      <td>2</td>\n",
       "      <td>1</td>\n",
       "      <td>365</td>\n",
       "      <td>1</td>\n",
       "      <td>150</td>\n",
       "    </tr>\n",
       "    <tr>\n",
       "      <th>3</th>\n",
       "      <td>1</td>\n",
       "      <td>270</td>\n",
       "      <td>41</td>\n",
       "      <td>1</td>\n",
       "      <td>0</td>\n",
       "      <td>194</td>\n",
       "      <td>1</td>\n",
       "      <td>89</td>\n",
       "    </tr>\n",
       "    <tr>\n",
       "      <th>4</th>\n",
       "      <td>10</td>\n",
       "      <td>9</td>\n",
       "      <td>61</td>\n",
       "      <td>2</td>\n",
       "      <td>0</td>\n",
       "      <td>0</td>\n",
       "      <td>1</td>\n",
       "      <td>80</td>\n",
       "    </tr>\n",
       "    <tr>\n",
       "      <th>...</th>\n",
       "      <td>...</td>\n",
       "      <td>...</td>\n",
       "      <td>...</td>\n",
       "      <td>...</td>\n",
       "      <td>...</td>\n",
       "      <td>...</td>\n",
       "      <td>...</td>\n",
       "      <td>...</td>\n",
       "    </tr>\n",
       "    <tr>\n",
       "      <th>48889</th>\n",
       "      <td>1</td>\n",
       "      <td>0</td>\n",
       "      <td>105</td>\n",
       "      <td>3</td>\n",
       "      <td>1</td>\n",
       "      <td>163</td>\n",
       "      <td>2</td>\n",
       "      <td>65</td>\n",
       "    </tr>\n",
       "    <tr>\n",
       "      <th>48890</th>\n",
       "      <td>2</td>\n",
       "      <td>0</td>\n",
       "      <td>13</td>\n",
       "      <td>1</td>\n",
       "      <td>1</td>\n",
       "      <td>9</td>\n",
       "      <td>2</td>\n",
       "      <td>70</td>\n",
       "    </tr>\n",
       "    <tr>\n",
       "      <th>48892</th>\n",
       "      <td>10</td>\n",
       "      <td>0</td>\n",
       "      <td>94</td>\n",
       "      <td>2</td>\n",
       "      <td>0</td>\n",
       "      <td>27</td>\n",
       "      <td>1</td>\n",
       "      <td>115</td>\n",
       "    </tr>\n",
       "    <tr>\n",
       "      <th>48893</th>\n",
       "      <td>1</td>\n",
       "      <td>0</td>\n",
       "      <td>95</td>\n",
       "      <td>2</td>\n",
       "      <td>2</td>\n",
       "      <td>2</td>\n",
       "      <td>6</td>\n",
       "      <td>55</td>\n",
       "    </tr>\n",
       "    <tr>\n",
       "      <th>48894</th>\n",
       "      <td>7</td>\n",
       "      <td>0</td>\n",
       "      <td>95</td>\n",
       "      <td>2</td>\n",
       "      <td>1</td>\n",
       "      <td>23</td>\n",
       "      <td>1</td>\n",
       "      <td>90</td>\n",
       "    </tr>\n",
       "  </tbody>\n",
       "</table>\n",
       "<p>43598 rows × 8 columns</p>\n",
       "</div>"
      ],
      "text/plain": [
       "       minimum_nights  number_of_reviews  neighborhood  neighborhood_group  \\\n",
       "0                   1                  9           108                   1   \n",
       "1                   1                 45           127                   2   \n",
       "2                   3                  0            94                   2   \n",
       "3                   1                270            41                   1   \n",
       "4                  10                  9            61                   2   \n",
       "...               ...                ...           ...                 ...   \n",
       "48889               1                  0           105                   3   \n",
       "48890               2                  0            13                   1   \n",
       "48892              10                  0            94                   2   \n",
       "48893               1                  0            95                   2   \n",
       "48894               7                  0            95                   2   \n",
       "\n",
       "       accomodation  availability_365  calculated_host_listings_count  \\\n",
       "0                 1               365                               6   \n",
       "1                 0               355                               2   \n",
       "2                 1               365                               1   \n",
       "3                 0               194                               1   \n",
       "4                 0                 0                               1   \n",
       "...             ...               ...                             ...   \n",
       "48889             1               163                               2   \n",
       "48890             1                 9                               2   \n",
       "48892             0                27                               1   \n",
       "48893             2                 2                               6   \n",
       "48894             1                23                               1   \n",
       "\n",
       "       listing_price  \n",
       "0                149  \n",
       "1                225  \n",
       "2                150  \n",
       "3                 89  \n",
       "4                 80  \n",
       "...              ...  \n",
       "48889             65  \n",
       "48890             70  \n",
       "48892            115  \n",
       "48893             55  \n",
       "48894             90  \n",
       "\n",
       "[43598 rows x 8 columns]"
      ]
     },
     "execution_count": 67,
     "metadata": {},
     "output_type": "execute_result"
    }
   ],
   "source": [
    "df1 = df1[['minimum_nights', 'number_of_reviews','neighborhood','neighborhood_group', 'accomodation', 'availability_365', 'calculated_host_listings_count', 'listing_price']]\n",
    "df1"
   ]
  },
  {
   "cell_type": "code",
   "execution_count": 68,
   "id": "c9b61f43",
   "metadata": {},
   "outputs": [
    {
     "name": "stdout",
     "output_type": "stream",
     "text": [
      "3228.4165447847045\n",
      "3165.6011484688743\n",
      "0.349186830484825\n"
     ]
    }
   ],
   "source": [
    "#run regression on all variables with price as predictor\n",
    "\n",
    "X = df1.iloc[:,0:7]\n",
    "Y = df1.iloc[:,7]\n",
    "\n",
    "#split data into training and testing\n",
    "X_train, X_test, Y_train, Y_test = train_test_split(X,Y,test_size=0.2,random_state=1)\n",
    "\n",
    "train_error = 0\n",
    "test_error = 0\n",
    "    \n",
    "reg = LinearRegression()\n",
    "reg.fit(X_train, Y_train)\n",
    "\n",
    "y_pred = reg.predict(X_train)\n",
    "y_pred_test = reg.predict(X_test)\n",
    "\n",
    "train_error = mean_squared_error(Y_train, y_pred)\n",
    "test_error = mean_squared_error(Y_test, y_pred_test)\n",
    "acc1 = r2_score(Y_test, y_pred_test)\n",
    "\n",
    "print(train_error)\n",
    "print(test_error)\n",
    "print(acc1)"
   ]
  },
  {
   "cell_type": "code",
   "execution_count": 69,
   "id": "27673999",
   "metadata": {},
   "outputs": [
    {
     "name": "stdout",
     "output_type": "stream",
     "text": [
      "1e-05\n",
      "3228.4165447847045\n",
      "3165.601148438646\n",
      "0.3491868304910396\n",
      "\n",
      "0.1\n",
      "3228.416544953406\n",
      "3165.6008463525704\n",
      "0.3491868925966515\n",
      "\n",
      "1\n",
      "3228.4165616516816\n",
      "3165.598142811206\n",
      "0.34918744841535443\n",
      "\n",
      "10\n",
      "3228.4182282875154\n",
      "3165.5726392272595\n",
      "0.34919269167485667\n",
      "\n",
      "20\n",
      "3228.423264639095\n",
      "3165.5475548942936\n",
      "0.34919784874091686\n",
      "\n"
     ]
    }
   ],
   "source": [
    "import warnings\n",
    "warnings.filterwarnings(\"ignore\")\n",
    "\n",
    "#ridge regression\n",
    "alphas = [1e-5, 0.1, 1, 10, 20]\n",
    "\n",
    "ridge_train_error = 0\n",
    "ridge_test_error = 0\n",
    "\n",
    "for alpha in alphas:\n",
    "    \n",
    "    ridgereg = Ridge(alpha=alpha)\n",
    "    ridgereg.fit(X_train, Y_train)\n",
    "    \n",
    "    y_pred = ridgereg.predict(X_train)\n",
    "    y_pred_test = ridgereg.predict(X_test)\n",
    "    \n",
    "    ridge_train_error = mean_squared_error(Y_train, y_pred)\n",
    "    ridge_test_error = mean_squared_error(Y_test, y_pred_test)\n",
    "    acc2 = r2_score(Y_test, y_pred_test)\n",
    "    \n",
    "    print(alpha)\n",
    "    print(ridge_train_error)\n",
    "    print(ridge_test_error)\n",
    "    print(acc2)\n",
    "    print('')\n"
   ]
  },
  {
   "cell_type": "code",
   "execution_count": 70,
   "id": "b0d6497f",
   "metadata": {},
   "outputs": [
    {
     "name": "stdout",
     "output_type": "stream",
     "text": [
      "0.001\n",
      "3228.416550397883\n",
      "3165.599543767666\n",
      "0.34918716039394193\n",
      "\n",
      "0.01\n",
      "3228.4171061112957\n",
      "3165.586495011122\n",
      "0.34918984307637924\n",
      "\n",
      "0.1\n",
      "3228.4726452506843\n",
      "3165.502407690121\n",
      "0.349207130515109\n",
      "\n",
      "1\n",
      "3234.0292607167485\n",
      "3169.5507073519684\n",
      "0.348374844130784\n",
      "\n"
     ]
    }
   ],
   "source": [
    "#lasso regression\n",
    "alphas = [1e-3, 1e-2, 1e-1, 1]\n",
    "\n",
    "lasso_train_error = 0\n",
    "lasso_test_error = 0\n",
    "\n",
    "for alpha in alphas:\n",
    "    \n",
    "    lassoreg = Lasso(alpha=alpha)\n",
    "    lassoreg.fit(X_train, Y_train)\n",
    "    \n",
    "    y_pred = lassoreg.predict(X_train)\n",
    "    y_pred_test = lassoreg.predict(X_test)\n",
    "    \n",
    "    lasso_train_error = mean_squared_error(Y_train, y_pred)\n",
    "    lasso_test_error = mean_squared_error(Y_test, y_pred_test)\n",
    "    acc3 = r2_score(Y_test, y_pred_test)\n",
    "    \n",
    "    print(alpha)\n",
    "    print(lasso_train_error)\n",
    "    print(lasso_test_error)\n",
    "    print(acc3)\n",
    "    print('')\n",
    "    \n",
    "#best test error at alpha of 1e-1"
   ]
  },
  {
   "cell_type": "markdown",
   "id": "0c901a23",
   "metadata": {},
   "source": [
    "# Principal Component Analysis"
   ]
  },
  {
   "cell_type": "code",
   "execution_count": 71,
   "id": "0a4f0052",
   "metadata": {},
   "outputs": [],
   "source": [
    "from sklearn.decomposition import PCA\n",
    "import matplotlib.pyplot as plt"
   ]
  },
  {
   "cell_type": "code",
   "execution_count": 72,
   "id": "b5302115",
   "metadata": {},
   "outputs": [
    {
     "data": {
      "text/html": [
       "<div>\n",
       "<style scoped>\n",
       "    .dataframe tbody tr th:only-of-type {\n",
       "        vertical-align: middle;\n",
       "    }\n",
       "\n",
       "    .dataframe tbody tr th {\n",
       "        vertical-align: top;\n",
       "    }\n",
       "\n",
       "    .dataframe thead th {\n",
       "        text-align: right;\n",
       "    }\n",
       "</style>\n",
       "<table border=\"1\" class=\"dataframe\">\n",
       "  <thead>\n",
       "    <tr style=\"text-align: right;\">\n",
       "      <th></th>\n",
       "      <th>minimum_nights</th>\n",
       "      <th>number_of_reviews</th>\n",
       "      <th>availability_365</th>\n",
       "      <th>calculated_host_listings_count</th>\n",
       "      <th>listing_price</th>\n",
       "    </tr>\n",
       "  </thead>\n",
       "  <tbody>\n",
       "    <tr>\n",
       "      <th>0</th>\n",
       "      <td>1</td>\n",
       "      <td>9</td>\n",
       "      <td>365</td>\n",
       "      <td>6</td>\n",
       "      <td>149</td>\n",
       "    </tr>\n",
       "    <tr>\n",
       "      <th>1</th>\n",
       "      <td>1</td>\n",
       "      <td>45</td>\n",
       "      <td>355</td>\n",
       "      <td>2</td>\n",
       "      <td>225</td>\n",
       "    </tr>\n",
       "    <tr>\n",
       "      <th>2</th>\n",
       "      <td>3</td>\n",
       "      <td>0</td>\n",
       "      <td>365</td>\n",
       "      <td>1</td>\n",
       "      <td>150</td>\n",
       "    </tr>\n",
       "    <tr>\n",
       "      <th>3</th>\n",
       "      <td>1</td>\n",
       "      <td>270</td>\n",
       "      <td>194</td>\n",
       "      <td>1</td>\n",
       "      <td>89</td>\n",
       "    </tr>\n",
       "    <tr>\n",
       "      <th>4</th>\n",
       "      <td>10</td>\n",
       "      <td>9</td>\n",
       "      <td>0</td>\n",
       "      <td>1</td>\n",
       "      <td>80</td>\n",
       "    </tr>\n",
       "    <tr>\n",
       "      <th>...</th>\n",
       "      <td>...</td>\n",
       "      <td>...</td>\n",
       "      <td>...</td>\n",
       "      <td>...</td>\n",
       "      <td>...</td>\n",
       "    </tr>\n",
       "    <tr>\n",
       "      <th>48889</th>\n",
       "      <td>1</td>\n",
       "      <td>0</td>\n",
       "      <td>163</td>\n",
       "      <td>2</td>\n",
       "      <td>65</td>\n",
       "    </tr>\n",
       "    <tr>\n",
       "      <th>48890</th>\n",
       "      <td>2</td>\n",
       "      <td>0</td>\n",
       "      <td>9</td>\n",
       "      <td>2</td>\n",
       "      <td>70</td>\n",
       "    </tr>\n",
       "    <tr>\n",
       "      <th>48892</th>\n",
       "      <td>10</td>\n",
       "      <td>0</td>\n",
       "      <td>27</td>\n",
       "      <td>1</td>\n",
       "      <td>115</td>\n",
       "    </tr>\n",
       "    <tr>\n",
       "      <th>48893</th>\n",
       "      <td>1</td>\n",
       "      <td>0</td>\n",
       "      <td>2</td>\n",
       "      <td>6</td>\n",
       "      <td>55</td>\n",
       "    </tr>\n",
       "    <tr>\n",
       "      <th>48894</th>\n",
       "      <td>7</td>\n",
       "      <td>0</td>\n",
       "      <td>23</td>\n",
       "      <td>1</td>\n",
       "      <td>90</td>\n",
       "    </tr>\n",
       "  </tbody>\n",
       "</table>\n",
       "<p>43598 rows × 5 columns</p>\n",
       "</div>"
      ],
      "text/plain": [
       "       minimum_nights  number_of_reviews  availability_365  \\\n",
       "0                   1                  9               365   \n",
       "1                   1                 45               355   \n",
       "2                   3                  0               365   \n",
       "3                   1                270               194   \n",
       "4                  10                  9                 0   \n",
       "...               ...                ...               ...   \n",
       "48889               1                  0               163   \n",
       "48890               2                  0                 9   \n",
       "48892              10                  0                27   \n",
       "48893               1                  0                 2   \n",
       "48894               7                  0                23   \n",
       "\n",
       "       calculated_host_listings_count  listing_price  \n",
       "0                                   6            149  \n",
       "1                                   2            225  \n",
       "2                                   1            150  \n",
       "3                                   1             89  \n",
       "4                                   1             80  \n",
       "...                               ...            ...  \n",
       "48889                               2             65  \n",
       "48890                               2             70  \n",
       "48892                               1            115  \n",
       "48893                               6             55  \n",
       "48894                               1             90  \n",
       "\n",
       "[43598 rows x 5 columns]"
      ]
     },
     "execution_count": 72,
     "metadata": {},
     "output_type": "execute_result"
    }
   ],
   "source": [
    "#numerical columns only for PCA\n",
    "df2 = df1[['minimum_nights', 'number_of_reviews','availability_365','calculated_host_listings_count','listing_price']]\n",
    "df2"
   ]
  },
  {
   "cell_type": "code",
   "execution_count": 73,
   "id": "49c38219",
   "metadata": {},
   "outputs": [
    {
     "data": {
      "text/plain": [
       "minimum_nights                    0\n",
       "number_of_reviews                 0\n",
       "availability_365                  0\n",
       "calculated_host_listings_count    0\n",
       "listing_price                     0\n",
       "dtype: int64"
      ]
     },
     "execution_count": 73,
     "metadata": {},
     "output_type": "execute_result"
    }
   ],
   "source": [
    "df2.isnull().sum()"
   ]
  },
  {
   "cell_type": "code",
   "execution_count": 74,
   "id": "3d0d7059",
   "metadata": {},
   "outputs": [
    {
     "name": "stdout",
     "output_type": "stream",
     "text": [
      "5\n",
      "[0.28380247 0.22977117 0.19442931 0.16138757 0.13060948]\n"
     ]
    }
   ],
   "source": [
    "#run the PCA\n",
    "zscored_df2 = stats.zscore(df2)\n",
    "pca = PCA().fit(zscored_df2)\n",
    "\n",
    "#get the eigenvalues\n",
    "eig_vals = pca.explained_variance_\n",
    "\n",
    "#get loadings\n",
    "loadings = pca.components_\n",
    "\n",
    "#rotated data\n",
    "rotated_df2 = pca.fit_transform(zscored_df2)\n",
    "\n",
    "cov_exp = eig_vals/sum(eig_vals)*100\n",
    "\n",
    "print(len(eig_vals))\n",
    "print(pca.explained_variance_ratio_)"
   ]
  },
  {
   "cell_type": "code",
   "execution_count": 75,
   "id": "ce6480e0",
   "metadata": {},
   "outputs": [
    {
     "data": {
      "text/plain": [
       "[<matplotlib.lines.Line2D at 0x2d21986f460>]"
      ]
     },
     "execution_count": 75,
     "metadata": {},
     "output_type": "execute_result"
    },
    {
     "data": {
      "image/png": "[encoded data removed]",
      "text/plain": [
       "<Figure size 720x576 with 1 Axes>"
      ]
     },
     "metadata": {},
     "output_type": "display_data"
    }
   ],
   "source": [
    "#scree plot to visualize this\n",
    "n = len(eig_vals)\n",
    "plt.figure(figsize = (10,8))\n",
    "plt.bar(np.linspace(1,n,n),eig_vals)\n",
    "plt.xlabel('Principal component')\n",
    "plt.ylabel('Eigenvalue')\n",
    "plt.plot([0,n+1],[1,1],color='red',linewidth=2) #kaiser line\n",
    "#based on the kaiser criterion we have two principal components"
   ]
  },
  {
   "cell_type": "code",
   "execution_count": 76,
   "id": "87e27a1f",
   "metadata": {},
   "outputs": [
    {
     "ename": "ValueError",
     "evalue": "Shape of passed values is (5, 5), indices imply (5, 2)",
     "output_type": "error",
     "traceback": [
      "\u001b[1;31m---------------------------------------------------------------------------\u001b[0m",
      "\u001b[1;31mValueError\u001b[0m                                Traceback (most recent call last)",
      "\u001b[1;32m~\\AppData\\Local\\Temp/ipykernel_18700/614574224.py\u001b[0m in \u001b[0;36m<module>\u001b[1;34m\u001b[0m\n\u001b[0;32m      1\u001b[0m \u001b[0mloadings2\u001b[0m \u001b[1;33m=\u001b[0m \u001b[0mpca\u001b[0m\u001b[1;33m.\u001b[0m\u001b[0mcomponents_\u001b[0m\u001b[1;33m.\u001b[0m\u001b[0mT\u001b[0m \u001b[1;33m*\u001b[0m \u001b[0mnp\u001b[0m\u001b[1;33m.\u001b[0m\u001b[0msqrt\u001b[0m\u001b[1;33m(\u001b[0m\u001b[0mpca\u001b[0m\u001b[1;33m.\u001b[0m\u001b[0mexplained_variance_\u001b[0m\u001b[1;33m)\u001b[0m\u001b[1;33m\u001b[0m\u001b[1;33m\u001b[0m\u001b[0m\n\u001b[0;32m      2\u001b[0m \u001b[1;33m\u001b[0m\u001b[0m\n\u001b[1;32m----> 3\u001b[1;33m \u001b[0mloading_matrix\u001b[0m \u001b[1;33m=\u001b[0m \u001b[0mpd\u001b[0m\u001b[1;33m.\u001b[0m\u001b[0mDataFrame\u001b[0m\u001b[1;33m(\u001b[0m\u001b[0mloadings2\u001b[0m\u001b[1;33m,\u001b[0m \u001b[0mcolumns\u001b[0m\u001b[1;33m=\u001b[0m\u001b[1;33m[\u001b[0m\u001b[1;34m'Component1'\u001b[0m\u001b[1;33m,\u001b[0m \u001b[1;34m'Component2'\u001b[0m\u001b[1;33m]\u001b[0m\u001b[1;33m,\u001b[0m \u001b[0mindex\u001b[0m\u001b[1;33m=\u001b[0m\u001b[0mdf2\u001b[0m\u001b[1;33m.\u001b[0m\u001b[0mcolumns\u001b[0m\u001b[1;33m)\u001b[0m\u001b[1;33m\u001b[0m\u001b[1;33m\u001b[0m\u001b[0m\n\u001b[0m\u001b[0;32m      4\u001b[0m \u001b[0mloading_matrix\u001b[0m\u001b[1;33m\u001b[0m\u001b[1;33m\u001b[0m\u001b[0m\n\u001b[0;32m      5\u001b[0m \u001b[1;31m#calculated_host_listings_count most significant in component1 and number_of_reviews most significant in component2\u001b[0m\u001b[1;33m\u001b[0m\u001b[1;33m\u001b[0m\u001b[1;33m\u001b[0m\u001b[0m\n",
      "\u001b[1;32m~\\anaconda3\\lib\\site-packages\\pandas\\core\\frame.py\u001b[0m in \u001b[0;36m__init__\u001b[1;34m(self, data, index, columns, dtype, copy)\u001b[0m\n\u001b[0;32m    670\u001b[0m                 )\n\u001b[0;32m    671\u001b[0m             \u001b[1;32melse\u001b[0m\u001b[1;33m:\u001b[0m\u001b[1;33m\u001b[0m\u001b[1;33m\u001b[0m\u001b[0m\n\u001b[1;32m--> 672\u001b[1;33m                 mgr = ndarray_to_mgr(\n\u001b[0m\u001b[0;32m    673\u001b[0m                     \u001b[0mdata\u001b[0m\u001b[1;33m,\u001b[0m\u001b[1;33m\u001b[0m\u001b[1;33m\u001b[0m\u001b[0m\n\u001b[0;32m    674\u001b[0m                     \u001b[0mindex\u001b[0m\u001b[1;33m,\u001b[0m\u001b[1;33m\u001b[0m\u001b[1;33m\u001b[0m\u001b[0m\n",
      "\u001b[1;32m~\\anaconda3\\lib\\site-packages\\pandas\\core\\internals\\construction.py\u001b[0m in \u001b[0;36mndarray_to_mgr\u001b[1;34m(values, index, columns, dtype, copy, typ)\u001b[0m\n\u001b[0;32m    322\u001b[0m     )\n\u001b[0;32m    323\u001b[0m \u001b[1;33m\u001b[0m\u001b[0m\n\u001b[1;32m--> 324\u001b[1;33m     \u001b[0m_check_values_indices_shape_match\u001b[0m\u001b[1;33m(\u001b[0m\u001b[0mvalues\u001b[0m\u001b[1;33m,\u001b[0m \u001b[0mindex\u001b[0m\u001b[1;33m,\u001b[0m \u001b[0mcolumns\u001b[0m\u001b[1;33m)\u001b[0m\u001b[1;33m\u001b[0m\u001b[1;33m\u001b[0m\u001b[0m\n\u001b[0m\u001b[0;32m    325\u001b[0m \u001b[1;33m\u001b[0m\u001b[0m\n\u001b[0;32m    326\u001b[0m     \u001b[1;32mif\u001b[0m \u001b[0mtyp\u001b[0m \u001b[1;33m==\u001b[0m \u001b[1;34m\"array\"\u001b[0m\u001b[1;33m:\u001b[0m\u001b[1;33m\u001b[0m\u001b[1;33m\u001b[0m\u001b[0m\n",
      "\u001b[1;32m~\\anaconda3\\lib\\site-packages\\pandas\\core\\internals\\construction.py\u001b[0m in \u001b[0;36m_check_values_indices_shape_match\u001b[1;34m(values, index, columns)\u001b[0m\n\u001b[0;32m    391\u001b[0m         \u001b[0mpassed\u001b[0m \u001b[1;33m=\u001b[0m \u001b[0mvalues\u001b[0m\u001b[1;33m.\u001b[0m\u001b[0mshape\u001b[0m\u001b[1;33m\u001b[0m\u001b[1;33m\u001b[0m\u001b[0m\n\u001b[0;32m    392\u001b[0m         \u001b[0mimplied\u001b[0m \u001b[1;33m=\u001b[0m \u001b[1;33m(\u001b[0m\u001b[0mlen\u001b[0m\u001b[1;33m(\u001b[0m\u001b[0mindex\u001b[0m\u001b[1;33m)\u001b[0m\u001b[1;33m,\u001b[0m \u001b[0mlen\u001b[0m\u001b[1;33m(\u001b[0m\u001b[0mcolumns\u001b[0m\u001b[1;33m)\u001b[0m\u001b[1;33m)\u001b[0m\u001b[1;33m\u001b[0m\u001b[1;33m\u001b[0m\u001b[0m\n\u001b[1;32m--> 393\u001b[1;33m         \u001b[1;32mraise\u001b[0m \u001b[0mValueError\u001b[0m\u001b[1;33m(\u001b[0m\u001b[1;34mf\"Shape of passed values is {passed}, indices imply {implied}\"\u001b[0m\u001b[1;33m)\u001b[0m\u001b[1;33m\u001b[0m\u001b[1;33m\u001b[0m\u001b[0m\n\u001b[0m\u001b[0;32m    394\u001b[0m \u001b[1;33m\u001b[0m\u001b[0m\n\u001b[0;32m    395\u001b[0m \u001b[1;33m\u001b[0m\u001b[0m\n",
      "\u001b[1;31mValueError\u001b[0m: Shape of passed values is (5, 5), indices imply (5, 2)"
     ]
    }
   ],
   "source": [
    "loadings2 = pca.components_.T * np.sqrt(pca.explained_variance_)\n",
    "\n",
    "loading_matrix = pd.DataFrame(loadings2, columns=['Component1', 'Component2'], index=df2.columns)\n",
    "loading_matrix\n",
    "#calculated_host_listings_count most significant in component1 and number_of_reviews most significant in component2"
   ]
  },
  {
   "cell_type": "code",
   "execution_count": null,
   "id": "0423b023",
   "metadata": {
    "scrolled": false
   },
   "outputs": [],
   "source": [
    "def loading_plot(coeff, labels):\n",
    "    n = coeff.shape[0]\n",
    "    for i in range(n):\n",
    "        plt.arrow(0, 0, coeff[i,0], coeff[i,1], head_width = 0.05, head_length = 0.05, color = 'b',alpha = 0.5)\n",
    "        plt.text(coeff[i,0]* 1.15, coeff[i,1] * 1.15, labels[i], color = 'b', ha = 'center', va = 'center')\n",
    "    plt.xlim(-0.5,1)\n",
    "    plt.ylim(-0.5,1)\n",
    "    plt.xlabel('PC1')\n",
    "    plt.ylabel('PC2')\n",
    "    plt.grid()"
   ]
  },
  {
   "cell_type": "code",
   "execution_count": null,
   "id": "c2597d00",
   "metadata": {},
   "outputs": [],
   "source": [
    "fig, ax = plt.subplots(figsize = (10,8))\n",
    "loading_plot(pca.components_.T, df2.columns)"
   ]
  },
  {
   "cell_type": "code",
   "execution_count": null,
   "id": "20c34fe3",
   "metadata": {},
   "outputs": [],
   "source": [
    "plt.figure(figsize = (10,8))\n",
    "plt.plot(range(1,6), pca.explained_variance_ratio_.cumsum(), marker = 'o', linestyle = '--')"
   ]
  },
  {
   "cell_type": "code",
   "execution_count": null,
   "id": "3e1867bd",
   "metadata": {},
   "outputs": [],
   "source": [
    "#new PCA - we will choose a PCA with 2 components\n",
    "from sklearn import decomposition\n",
    "\n",
    "pca = decomposition.PCA(n_components=2)\n",
    "pca.fit(zscored_df2)\n",
    "scores = pca.transform(zscored_df2)"
   ]
  },
  {
   "cell_type": "markdown",
   "id": "82425eb2",
   "metadata": {},
   "source": [
    "# Clustering"
   ]
  },
  {
   "cell_type": "code",
   "execution_count": null,
   "id": "7d16f578",
   "metadata": {},
   "outputs": [],
   "source": [
    "from sklearn.cluster import KMeans\n",
    "from sklearn.metrics import silhouette_samples\n",
    "from sklearn.metrics import silhouette_score\n",
    "\n",
    "#compute within clusters sum of squares\n",
    "wcss = []\n",
    "\n",
    "#check for 1 up to 10 clusters\n",
    "for i in range(1,10):\n",
    "    k_means_pca = KMeans(n_clusters = i, init = 'k-means++', random_state=0)\n",
    "    k_means_pca.fit(scores)\n",
    "    wcss.append(k_means_pca.inertia_)"
   ]
  },
  {
   "cell_type": "code",
   "execution_count": null,
   "id": "42836319",
   "metadata": {},
   "outputs": [],
   "source": [
    "plt.figure(figsize = (10,8))\n",
    "plt.plot(range(1,10), wcss, marker = 'o', linestyle = '--')"
   ]
  },
  {
   "cell_type": "code",
   "execution_count": null,
   "id": "9bae382e",
   "metadata": {},
   "outputs": [],
   "source": [
    "#Do Not Rerun Code - Time Consuming\n",
    "k_silhouette = []\n",
    "#check for to 2 up to 10 clusters\n",
    "for i in range(2,10):\n",
    "    k_means_pca = KMeans(n_clusters = i, init = 'k-means++', random_state=0)\n",
    "    k_means_pca.fit(scores)\n",
    "    sil_score = silhouette_score(scores, k_means_pca.labels_)\n",
    "    k_silhouette.append(sil_score)"
   ]
  },
  {
   "cell_type": "code",
   "execution_count": null,
   "id": "0db4bb00",
   "metadata": {},
   "outputs": [],
   "source": [
    "plt.figure(figsize = (10,8))\n",
    "plt.plot(range(2,10), k_silhouette, marker = 'o', linestyle = '--')"
   ]
  },
  {
   "cell_type": "code",
   "execution_count": null,
   "id": "345e70f4",
   "metadata": {},
   "outputs": [],
   "source": [
    "#it looks like we could run kmeans with anywhere from 1-3 clusters based on the wcss and silhouette analysis\n",
    "k_means_pca = KMeans(n_clusters = 3, init = 'k-means++', random_state=0)\n",
    "k_means_pca.fit(scores)"
   ]
  },
  {
   "cell_type": "code",
   "execution_count": null,
   "id": "5371ef5a",
   "metadata": {},
   "outputs": [],
   "source": [
    "df_pca_kmeans = pd.concat([df2.reset_index(drop = True), pd.DataFrame(scores)], axis = 1)\n",
    "df_pca_kmeans.columns.values[-2:] = ['Component1', 'Component2']\n",
    "df_pca_kmeans['Labels'] = k_means_pca.labels_\n",
    "df_pca_kmeans['Segment'] = df_pca_kmeans['Labels'].map({0:'first', 1:'second', 2:'third'})"
   ]
  },
  {
   "cell_type": "code",
   "execution_count": null,
   "id": "15e0df37",
   "metadata": {},
   "outputs": [],
   "source": [
    "df_pca_kmeans"
   ]
  },
  {
   "cell_type": "code",
   "execution_count": null,
   "id": "2c2fff31",
   "metadata": {
    "scrolled": false
   },
   "outputs": [],
   "source": [
    "x_axis = df_pca_kmeans['Component1']\n",
    "y_axis = df_pca_kmeans['Component2']\n",
    "plt.figure(figsize=(10,8))\n",
    "sns.scatterplot(x_axis, y_axis, hue = df_pca_kmeans['Segment'], palette=\"colorblind\")"
   ]
  },
  {
   "cell_type": "markdown",
   "id": "0f797428",
   "metadata": {},
   "source": [
    "# Further Machine Learning Methods"
   ]
  },
  {
   "cell_type": "markdown",
   "id": "f9ef2399",
   "metadata": {},
   "source": [
    "Two-variable MLR"
   ]
  },
  {
   "cell_type": "code",
   "execution_count": null,
   "id": "0a736667",
   "metadata": {},
   "outputs": [],
   "source": [
    "df2"
   ]
  },
  {
   "cell_type": "code",
   "execution_count": null,
   "id": "bdcd0614",
   "metadata": {},
   "outputs": [],
   "source": [
    "#multiple linear regression with just components from PCA - curious if any price predictability\n",
    "X = pd.concat([df2.iloc[:,1], df2.iloc[:,3]], axis=1)\n",
    "Y = df2.iloc[:,4]\n",
    "\n",
    "#split data into training and testing\n",
    "X_train, X_test, Y_train, Y_test = train_test_split(X,Y,test_size=0.2,random_state=1)\n",
    "\n",
    "train_error = 0\n",
    "test_error = 0\n",
    "    \n",
    "reg = LinearRegression()\n",
    "reg.fit(X_train, Y_train)\n",
    "\n",
    "y_pred = reg.predict(X_train)\n",
    "y_pred_test = reg.predict(X_test)\n",
    "\n",
    "train_error = mean_squared_error(Y_train, y_pred)\n",
    "test_error = mean_squared_error(Y_test, y_pred_test)\n",
    "acc = r2_score(Y_test, y_pred_test)\n",
    "\n",
    "print(train_error)\n",
    "print(test_error)\n",
    "print(acc)\n",
    "#looks like not - the two-variable model on its own is not good "
   ]
  },
  {
   "cell_type": "code",
   "execution_count": null,
   "id": "fa65400d",
   "metadata": {},
   "outputs": [],
   "source": [
    "#multiple linear regression with components from PCA and categoricals\n",
    "categoricals = df1[['neighborhood', 'neighborhood_group', 'accommodation']]\n",
    "X = pd.concat([X, categoricals], axis = 1)\n",
    "Y = df2.iloc[:,4]\n",
    "\n",
    "#split data into training and testing\n",
    "X_train, X_test, Y_train, Y_test = train_test_split(X,Y,test_size=0.2,random_state=1)\n",
    "\n",
    "train_error = 0\n",
    "test_error = 0\n",
    "    \n",
    "reg = LinearRegression()\n",
    "reg.fit(X_train, Y_train)\n",
    "\n",
    "y_pred = reg.predict(X_train)\n",
    "y_pred_test = reg.predict(X_test)\n",
    "\n",
    "train_error = mean_squared_error(Y_train, y_pred)\n",
    "test_error = mean_squared_error(Y_test, y_pred_test)\n",
    "acc = r2_score(Y_test, y_pred_test)\n",
    "\n",
    "print(train_error)\n",
    "print(test_error)\n",
    "print(acc)\n",
    "#this is significantly better with categoricals"
   ]
  },
  {
   "cell_type": "markdown",
   "id": "db1d5320",
   "metadata": {},
   "source": [
    "Simple Neural Net"
   ]
  },
  {
   "cell_type": "code",
   "execution_count": null,
   "id": "8dcef0a1",
   "metadata": {},
   "outputs": [],
   "source": [
    "from sklearn.neural_network import MLPRegressor"
   ]
  },
  {
   "cell_type": "code",
   "execution_count": null,
   "id": "13f35594",
   "metadata": {},
   "outputs": [],
   "source": [
    "#columns from the PCA and categoricals\n",
    "X_nn = X"
   ]
  },
  {
   "cell_type": "code",
   "execution_count": null,
   "id": "dade5e31",
   "metadata": {},
   "outputs": [],
   "source": [
    "#for our supervised learning models we will split our data into training and testing sets once again\n",
    "Y_nn = df2.iloc[:,4]\n",
    "\n",
    "X_train, X_test, Y_train, Y_test = train_test_split(X_nn,Y_nn,test_size=0.2,random_state=1)"
   ]
  },
  {
   "cell_type": "code",
   "execution_count": null,
   "id": "ff69b084",
   "metadata": {},
   "outputs": [],
   "source": [
    "annreg = MLPRegressor(solver='adam', alpha=1e-5, hidden_layer_sizes=(5, 5), random_state=1, max_iter=2000).fit(X_train, Y_train)\n",
    "rsq_train = annreg.score(X_train, Y_train)\n",
    "rsq_test = annreg.score(X_test, Y_test)\n",
    "\n",
    "print(rsq_train)\n",
    "print(rsq_test)\n",
    "#the result provides some improvement versus our regression models \n"
   ]
  },
  {
   "cell_type": "markdown",
   "id": "d0365099",
   "metadata": {},
   "source": [
    "Decision Tree & Random Forest"
   ]
  },
  {
   "cell_type": "code",
   "execution_count": null,
   "id": "07713057",
   "metadata": {},
   "outputs": [],
   "source": [
    "from sklearn.tree import DecisionTreeRegressor\n",
    "from sklearn.ensemble import RandomForestRegressor"
   ]
  },
  {
   "cell_type": "code",
   "execution_count": null,
   "id": "b41d1a3c",
   "metadata": {},
   "outputs": [],
   "source": [
    "X_train, X_test, Y_train, Y_test = train_test_split(X_nn,Y_nn,test_size=0.2,random_state=1)\n",
    "\n",
    "dtree = DecisionTreeRegressor(max_depth=10)\n",
    "dtree.fit(X_train, Y_train)\n",
    "#y_pred = dtree.predict(X_test)\n",
    "\n",
    "rsq_train = r2_score(Y_train, dtree.predict(X_train))\n",
    "rsq_test = r2_score(Y_test, dtree.predict(X_test))\n",
    "\n",
    "print(rsq_train)\n",
    "print(rsq_test)"
   ]
  },
  {
   "cell_type": "code",
   "execution_count": null,
   "id": "79e652da",
   "metadata": {},
   "outputs": [],
   "source": [
    "randfor = RandomForestRegressor(max_depth=4, n_estimators=100).fit(X_train, Y_train)\n",
    "\n",
    "rsq_train = r2_score(Y_train, randfor.predict(X_train))\n",
    "rsq_test = r2_score(Y_test, randfor.predict(X_test))"
   ]
  },
  {
   "cell_type": "code",
   "execution_count": null,
   "id": "963fa262",
   "metadata": {},
   "outputs": [],
   "source": [
    "print(rsq_train)\n",
    "print(rsq_test)"
   ]
  },
  {
   "cell_type": "code",
   "execution_count": null,
   "id": "018a0109",
   "metadata": {},
   "outputs": [],
   "source": [
    "visualize_classifier(dtree, X, y)"
   ]
  }
 ],
 "metadata": {
  "kernelspec": {
   "display_name": "Python 3 (ipykernel)",
   "language": "python",
   "name": "python3"
  },
  "language_info": {
   "codemirror_mode": {
    "name": "ipython",
    "version": 3
   },
   "file_extension": ".py",
   "mimetype": "text/x-python",
   "name": "python",
   "nbconvert_exporter": "python",
   "pygments_lexer": "ipython3",
   "version": "3.8.8"
  }
 },
 "nbformat": 4,
 "nbformat_minor": 5
}
